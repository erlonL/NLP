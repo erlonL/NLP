{
 "cells": [
  {
   "cell_type": "code",
   "execution_count": 1,
   "metadata": {},
   "outputs": [],
   "source": [
    "import pandas as pd"
   ]
  },
  {
   "cell_type": "code",
   "execution_count": 2,
   "metadata": {},
   "outputs": [
    {
     "data": {
      "text/html": [
       "<div>\n",
       "<style scoped>\n",
       "    .dataframe tbody tr th:only-of-type {\n",
       "        vertical-align: middle;\n",
       "    }\n",
       "\n",
       "    .dataframe tbody tr th {\n",
       "        vertical-align: top;\n",
       "    }\n",
       "\n",
       "    .dataframe thead th {\n",
       "        text-align: right;\n",
       "    }\n",
       "</style>\n",
       "<table border=\"1\" class=\"dataframe\">\n",
       "  <thead>\n",
       "    <tr style=\"text-align: right;\">\n",
       "      <th></th>\n",
       "      <th>id</th>\n",
       "      <th>message</th>\n",
       "      <th>time</th>\n",
       "      <th>relative_time</th>\n",
       "      <th>author</th>\n",
       "    </tr>\n",
       "  </thead>\n",
       "  <tbody>\n",
       "    <tr>\n",
       "      <th>0</th>\n",
       "      <td>5657094723</td>\n",
       "      <td>Cara... muito bom, estou acompanhando. Obrigad...</td>\n",
       "      <td>Sexta-Feira, 24 de Dezembro de 2021 às 06:34</td>\n",
       "      <td>2 anos atrás</td>\n",
       "      <td>Leandro Pereira Gomes</td>\n",
       "    </tr>\n",
       "    <tr>\n",
       "      <th>1</th>\n",
       "      <td>5703851441</td>\n",
       "      <td>Nando, tudo bem? Ainda realiza cursos como fiz...</td>\n",
       "      <td>Sábado, 22 de Janeiro de 2022 às 22:28</td>\n",
       "      <td>2 anos atrás</td>\n",
       "      <td>Leonardo Konarzewski</td>\n",
       "    </tr>\n",
       "    <tr>\n",
       "      <th>2</th>\n",
       "      <td>5710662240</td>\n",
       "      <td>Fala Leonardo! Não, parei de dar os cursos em ...</td>\n",
       "      <td>Quinta-Feira, 27 de Janeiro de 2022 às 16:41</td>\n",
       "      <td>2 anos atrás</td>\n",
       "      <td>Nando Vieira</td>\n",
       "    </tr>\n",
       "    <tr>\n",
       "      <th>3</th>\n",
       "      <td>4939847379</td>\n",
       "      <td>Nando, como entro em contato com você?</td>\n",
       "      <td>Quarta-Feira, 3 de Junho de 2020 às 20:40</td>\n",
       "      <td>3 anos atrás</td>\n",
       "      <td>Jhonatan Petronilho</td>\n",
       "    </tr>\n",
       "    <tr>\n",
       "      <th>4</th>\n",
       "      <td>4880700638</td>\n",
       "      <td>Muito bom o artigo! Valeu, Nando!</td>\n",
       "      <td>Sábado, 18 de Abril de 2020 às 21:03</td>\n",
       "      <td>3 anos atrás</td>\n",
       "      <td>Messias Henrique Vieira Silva</td>\n",
       "    </tr>\n",
       "  </tbody>\n",
       "</table>\n",
       "</div>"
      ],
      "text/plain": [
       "           id                                            message  \\\n",
       "0  5657094723  Cara... muito bom, estou acompanhando. Obrigad...   \n",
       "1  5703851441  Nando, tudo bem? Ainda realiza cursos como fiz...   \n",
       "2  5710662240  Fala Leonardo! Não, parei de dar os cursos em ...   \n",
       "3  4939847379             Nando, como entro em contato com você?   \n",
       "4  4880700638                  Muito bom o artigo! Valeu, Nando!   \n",
       "\n",
       "                                           time relative_time  \\\n",
       "0  Sexta-Feira, 24 de Dezembro de 2021 às 06:34  2 anos atrás   \n",
       "1        Sábado, 22 de Janeiro de 2022 às 22:28  2 anos atrás   \n",
       "2  Quinta-Feira, 27 de Janeiro de 2022 às 16:41  2 anos atrás   \n",
       "3     Quarta-Feira, 3 de Junho de 2020 às 20:40  3 anos atrás   \n",
       "4          Sábado, 18 de Abril de 2020 às 21:03  3 anos atrás   \n",
       "\n",
       "                          author  \n",
       "0          Leandro Pereira Gomes  \n",
       "1           Leonardo Konarzewski  \n",
       "2                   Nando Vieira  \n",
       "3            Jhonatan Petronilho  \n",
       "4  Messias Henrique Vieira Silva  "
      ]
     },
     "execution_count": 2,
     "metadata": {},
     "output_type": "execute_result"
    }
   ],
   "source": [
    "df = pd.read_csv('../comments_final.csv')\n",
    "df.head()"
   ]
  },
  {
   "cell_type": "code",
   "execution_count": 3,
   "metadata": {},
   "outputs": [],
   "source": [
    "from collections import Counter"
   ]
  },
  {
   "cell_type": "code",
   "execution_count": 4,
   "metadata": {},
   "outputs": [
    {
     "data": {
      "text/plain": [
       "[('Nando Vieira', 631),\n",
       " ('Walter Cruz', 31),\n",
       " ('Leonardo Faria', 21),\n",
       " ('Guest', 18),\n",
       " ('Leonardo Faria Coelho', 17),\n",
       " ('Carlos Brando', 15),\n",
       " ('Alexandre', 13),\n",
       " ('Cezinha Anjos', 12),\n",
       " ('Luiz Rocha', 12),\n",
       " ('Lucas Húngaro', 12),\n",
       " ('Thiago Antonius', 12),\n",
       " ('Lucas Caton', 11),\n",
       " ('Rodrigo Rosenfeld Rosas', 11),\n",
       " ('Ricardo Pacheco', 11),\n",
       " ('Willian Fernandes', 10),\n",
       " ('Roger', 10),\n",
       " ('Jeferson', 10),\n",
       " ('Leonardo Fontenelle', 10),\n",
       " ('Yuri Malheiros', 10),\n",
       " ('Yui', 9)]"
      ]
     },
     "execution_count": 4,
     "metadata": {},
     "output_type": "execute_result"
    }
   ],
   "source": [
    "# autor que mais comentou\n",
    "Counter(df['author']).most_common(20)"
   ]
  },
  {
   "cell_type": "code",
   "execution_count": 5,
   "metadata": {},
   "outputs": [],
   "source": [
    "from sklearn.feature_extraction.text import CountVectorizer\n",
    "from collections import Counter\n",
    "import nltk\n",
    "import pandas as pd\n",
    "from nltk.stem import WordNetLemmatizer\n",
    "from itertools import chain\n",
    "\n",
    "from nltk.corpus import stopwords\n",
    "from nltk.tokenize import word_tokenize"
   ]
  },
  {
   "cell_type": "code",
   "execution_count": 6,
   "metadata": {},
   "outputs": [],
   "source": [
    "stop_words = stopwords.words('portuguese')"
   ]
  },
  {
   "cell_type": "code",
   "execution_count": 7,
   "metadata": {},
   "outputs": [],
   "source": [
    "count_vectorizer = CountVectorizer()\n",
    "word_tokenizer = count_vectorizer.build_tokenizer()"
   ]
  },
  {
   "cell_type": "code",
   "execution_count": 8,
   "metadata": {},
   "outputs": [],
   "source": [
    "def tokenize(text):\n",
    "    try:\n",
    "        tokens = word_tokenizer(text)\n",
    "        tokens = [w for w in tokens if w not in stop_words]\n",
    "        tokens = [WordNetLemmatizer().lemmatize(w) for w in tokens]\n",
    "        return tokens\n",
    "    except:\n",
    "        return None"
   ]
  },
  {
   "cell_type": "code",
   "execution_count": 9,
   "metadata": {},
   "outputs": [],
   "source": [
    "df['tokens'] = df['message'].apply(tokenize)"
   ]
  },
  {
   "cell_type": "code",
   "execution_count": 13,
   "metadata": {},
   "outputs": [
    {
     "data": {
      "text/plain": [
       "[('Nando', 557),\n",
       " ('http', 350),\n",
       " ('fazer', 344),\n",
       " ('post', 317),\n",
       " ('bom', 311),\n",
       " ('Eu', 294),\n",
       " ('usar', 270),\n",
       " ('pra', 264),\n",
       " ('Muito', 254),\n",
       " ('bem', 244),\n",
       " ('problema', 223),\n",
       " ('pode', 217),\n",
       " ('Não', 204),\n",
       " ('aqui', 196),\n",
       " ('Parabéns', 190),\n",
       " ('exemplo', 186),\n",
       " ('ter', 174),\n",
       " ('sobre', 171),\n",
       " ('Rails', 167),\n",
       " ('código', 167)]"
      ]
     },
     "execution_count": 13,
     "metadata": {},
     "output_type": "execute_result"
    }
   ],
   "source": [
    "# palavras mais recorrentes\n",
    "Counter(list(chain.from_iterable(df['tokens']))).most_common(20)   "
   ]
  },
  {
   "cell_type": "code",
   "execution_count": null,
   "metadata": {},
   "outputs": [],
   "source": [
    "## AUTORES QUE MAIS COMENTAM"
   ]
  },
  {
   "cell_type": "code",
   "execution_count": null,
   "metadata": {},
   "outputs": [],
   "source": []
  }
 ],
 "metadata": {
  "kernelspec": {
   "display_name": "Python 3",
   "language": "python",
   "name": "python3"
  },
  "language_info": {
   "codemirror_mode": {
    "name": "ipython",
    "version": 3
   },
   "file_extension": ".py",
   "mimetype": "text/x-python",
   "name": "python",
   "nbconvert_exporter": "python",
   "pygments_lexer": "ipython3",
   "version": "3.10.12"
  },
  "orig_nbformat": 4
 },
 "nbformat": 4,
 "nbformat_minor": 2
}
